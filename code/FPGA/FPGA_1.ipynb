{
 "cells": [
  {
   "cell_type": "markdown",
   "id": "7bb5caf4-1b02-4f3e-883b-638e010668f7",
   "metadata": {},
   "source": [
    "## FPGA #1"
   ]
  },
  {
   "cell_type": "code",
   "execution_count": 1,
   "id": "f739e603-9212-4e25-a16d-ba89643c63c0",
   "metadata": {},
   "outputs": [],
   "source": [
    "import pynq\n",
    "import numpy as np\n",
    "from _thread import *\n",
    "import threading \n",
    "import socket"
   ]
  },
  {
   "cell_type": "code",
   "execution_count": 2,
   "id": "1065b4e1-f7ae-4fdc-8a5b-2fccae402a41",
   "metadata": {},
   "outputs": [],
   "source": [
    "import pynq, os, sys\n",
    "sys.path.append('../')\n",
    "import vnx_utils"
   ]
  },
  {
   "cell_type": "code",
   "execution_count": 3,
   "id": "fb787026-6a3a-4acf-815c-1e91236e4610",
   "metadata": {},
   "outputs": [
    {
     "name": "stdout",
     "output_type": "stream",
     "text": [
      "0) xilinx_u200_gen3x16_xdma_base_1\n"
     ]
    }
   ],
   "source": [
    "for i in range(len(pynq.Device.devices)):\n",
    "    print(\"{}) {}\".format(i, pynq.Device.devices[i].name))"
   ]
  },
  {
   "cell_type": "code",
   "execution_count": 4,
   "id": "42941d68-1a0c-4d8c-962f-fb8dab11fd56",
   "metadata": {},
   "outputs": [
    {
     "data": {
      "application/javascript": [
       "\n",
       "try {\n",
       "require(['notebook/js/codecell'], function(codecell) {\n",
       "  codecell.CodeCell.options_default.highlight_modes[\n",
       "      'magic_text/x-csrc'] = {'reg':[/^%%microblaze/]};\n",
       "  Jupyter.notebook.events.one('kernel_ready.Kernel', function(){\n",
       "      Jupyter.notebook.get_cells().map(function(cell){\n",
       "          if (cell.cell_type == 'code'){ cell.auto_highlight(); } }) ;\n",
       "  });\n",
       "});\n",
       "} catch (e) {};\n"
      ]
     },
     "metadata": {},
     "output_type": "display_data"
    },
    {
     "data": {
      "application/javascript": [
       "\n",
       "try {\n",
       "require(['notebook/js/codecell'], function(codecell) {\n",
       "  codecell.CodeCell.options_default.highlight_modes[\n",
       "      'magic_text/x-csrc'] = {'reg':[/^%%pybind11/]};\n",
       "  Jupyter.notebook.events.one('kernel_ready.Kernel', function(){\n",
       "      Jupyter.notebook.get_cells().map(function(cell){\n",
       "          if (cell.cell_type == 'code'){ cell.auto_highlight(); } }) ;\n",
       "  });\n",
       "});\n",
       "} catch (e) {};\n"
      ]
     },
     "metadata": {},
     "output_type": "display_data"
    }
   ],
   "source": [
    "currentDevice = pynq.Device.devices[0]\n",
    "xclbin = 'gamma_filter/build_dir.hw.xilinx_u200_gen3x16_xdma_1_202110_1/gamma_filter.xclbin'\n",
    "ol = pynq.Overlay(xclbin,device=currentDevice)"
   ]
  },
  {
   "cell_type": "code",
   "execution_count": 5,
   "id": "48d5edaa-6c44-44e9-86b5-f1deb6b527d5",
   "metadata": {},
   "outputs": [
    {
     "data": {
      "application/json": {
       "gamma_filter_1": {
        "addr_range": 4096,
        "cu_index": 0,
        "cu_name": "gamma_filter:gamma_filter_1",
        "device": "<pynq.pl_server.xrt_device.XrtDevice object at 0x7ffaf87c9a00>",
        "driver": "<class 'pynq.overlay.DefaultIP'>",
        "fullpath": "gamma_filter_1",
        "gpio": {},
        "hw_control_protocol": "ap_ctrl_chain",
        "index": 0,
        "interrupts": {},
        "mem_id": null,
        "phys_addr": 16842752,
        "registers": {
         "CTRL": {
          "access": "read-write",
          "address_offset": 0,
          "description": "OpenCL Control Register",
          "fields": {
           "AP_CONTINUE": {
            "access": "read-write",
            "bit_offset": 4,
            "bit_width": 1,
            "description": "Invoke next iteration of kernel"
           },
           "AP_DONE": {
            "access": "read-only",
            "bit_offset": 1,
            "bit_width": 1,
            "description": "Accelerator has finished - cleared on read"
           },
           "AP_IDLE": {
            "access": "read-only",
            "bit_offset": 2,
            "bit_width": 1,
            "description": "Accelerator is idle"
           },
           "AP_READY": {
            "access": "read-only",
            "bit_offset": 3,
            "bit_width": 1,
            "description": "Accelerator is ready to start next computation"
           },
           "AP_START": {
            "access": "read-write",
            "bit_offset": 0,
            "bit_width": 1,
            "description": "Start the accelerator"
           },
           "AUTO_RESTART": {
            "access": "read-write",
            "bit_offset": 7,
            "bit_width": 1,
            "description": "Restart the accelerator automatically when finished"
           }
          },
          "id": null,
          "size": 4,
          "type": "unsigned int"
         },
         "gamma": {
          "access": "read-write;",
          "address_offset": 16,
          "description": "OpenCL Argument Register",
          "host_size": 8,
          "id": 0,
          "memory": "bank1",
          "size": 64,
          "type": "void*"
         },
         "gamma_lut": {
          "access": "read-write;",
          "address_offset": 28,
          "description": "OpenCL Argument Register",
          "host_size": 8,
          "id": 1,
          "memory": "bank1",
          "size": 64,
          "type": "void*"
         }
        },
        "state": null,
        "streams": {},
        "type": "xilinx.com:hls:gamma_filter:1.0",
        "xclbin_uuid": "bdc37647fb58c4c49319bd675f8dccbe"
       }
      },
      "text/plain": [
       "{'gamma_filter_1': {'phys_addr': 16842752,\n",
       "  'addr_range': 4096,\n",
       "  'type': 'xilinx.com:hls:gamma_filter:1.0',\n",
       "  'hw_control_protocol': 'ap_ctrl_chain',\n",
       "  'fullpath': 'gamma_filter_1',\n",
       "  'registers': {'CTRL': {'address_offset': 0,\n",
       "    'access': 'read-write',\n",
       "    'size': 4,\n",
       "    'description': 'OpenCL Control Register',\n",
       "    'type': 'unsigned int',\n",
       "    'id': None,\n",
       "    'fields': {'AP_START': {'access': 'read-write',\n",
       "      'bit_offset': 0,\n",
       "      'bit_width': 1,\n",
       "      'description': 'Start the accelerator'},\n",
       "     'AP_DONE': {'access': 'read-only',\n",
       "      'bit_offset': 1,\n",
       "      'bit_width': 1,\n",
       "      'description': 'Accelerator has finished - cleared on read'},\n",
       "     'AP_IDLE': {'access': 'read-only',\n",
       "      'bit_offset': 2,\n",
       "      'bit_width': 1,\n",
       "      'description': 'Accelerator is idle'},\n",
       "     'AP_READY': {'access': 'read-only',\n",
       "      'bit_offset': 3,\n",
       "      'bit_width': 1,\n",
       "      'description': 'Accelerator is ready to start next computation'},\n",
       "     'AUTO_RESTART': {'access': 'read-write',\n",
       "      'bit_offset': 7,\n",
       "      'bit_width': 1,\n",
       "      'description': 'Restart the accelerator automatically when finished'},\n",
       "     'AP_CONTINUE': {'access': 'read-write',\n",
       "      'bit_offset': 4,\n",
       "      'bit_width': 1,\n",
       "      'description': 'Invoke next iteration of kernel'}}},\n",
       "   'gamma': {'address_offset': 16,\n",
       "    'access': 'read-write;',\n",
       "    'size': 64,\n",
       "    'host_size': 8,\n",
       "    'description': 'OpenCL Argument Register',\n",
       "    'type': 'void*',\n",
       "    'id': 0,\n",
       "    'memory': 'bank1'},\n",
       "   'gamma_lut': {'address_offset': 28,\n",
       "    'access': 'read-write;',\n",
       "    'size': 64,\n",
       "    'host_size': 8,\n",
       "    'description': 'OpenCL Argument Register',\n",
       "    'type': 'void*',\n",
       "    'id': 1,\n",
       "    'memory': 'bank1'}},\n",
       "  'streams': {},\n",
       "  'mem_id': None,\n",
       "  'state': None,\n",
       "  'interrupts': {},\n",
       "  'gpio': {},\n",
       "  'xclbin_uuid': 'bdc37647fb58c4c49319bd675f8dccbe',\n",
       "  'cu_name': 'gamma_filter:gamma_filter_1',\n",
       "  'cu_index': 0,\n",
       "  'index': 0,\n",
       "  'device': <pynq.pl_server.xrt_device.XrtDevice at 0x7ffaf87c9a00>,\n",
       "  'driver': pynq.overlay.DefaultIP}}"
      ]
     },
     "execution_count": 5,
     "metadata": {
      "application/json": {
       "expanded": false,
       "root": "ip_dict"
      }
     },
     "output_type": "execute_result"
    }
   ],
   "source": [
    "ol.ip_dict"
   ]
  },
  {
   "cell_type": "markdown",
   "id": "8a7f321d-8d19-4e0e-8202-f80880016edd",
   "metadata": {},
   "source": [
    "### Receive data from FPGA manager"
   ]
  },
  {
   "cell_type": "code",
   "execution_count": 6,
   "id": "b76900b0-bd9b-4fda-8bb3-2981df6bf550",
   "metadata": {},
   "outputs": [],
   "source": [
    "import socket\n",
    "from struct import unpack\n",
    "\n",
    "def start_server(host, port):\n",
    "    # host = '10.1.212.147'\n",
    "    # port = 64505  # Make sure this port is not in use\n",
    "\n",
    "    server_socket = socket.socket(socket.AF_INET, socket.SOCK_STREAM)\n",
    "    server_socket.bind((host, port))\n",
    "    server_socket.listen(1)\n",
    "    print('Server started. Waiting for connections...')\n",
    "    server_running = True\n",
    "    \n",
    "    while server_running:\n",
    "        client_socket, addr = server_socket.accept()\n",
    "        print(f'Connection from: {str(addr)}')\n",
    "        while True:\n",
    "            bs = client_socket.recv(8)\n",
    "            (length,) = unpack('>Q', bs)\n",
    "            print(length)\n",
    "            recv_data = b''\n",
    "            while len(recv_data) < length:\n",
    "                to_read = length - len(recv_data)\n",
    "                recv_data += client_socket.recv(\n",
    "                    4096 if to_read > 4096 else to_read)\n",
    "            # recv_data = receive_all(client_socket, image_data_size)\n",
    "            if not recv_data:\n",
    "                break\n",
    "            print(f'From connected user: {recv_data[:1024]} ...')\n",
    "            data = '202'\n",
    "            client_socket.send(data.encode())\n",
    "            \n",
    "            server_running = False\n",
    "            break\n",
    "\n",
    "        client_socket.close()\n",
    "    server_socket.close()\n",
    "    print(\"close connection\")\n",
    "    return recv_data"
   ]
  },
  {
   "cell_type": "code",
   "execution_count": null,
   "id": "17ccb81d-b322-4217-af53-54989071b434",
   "metadata": {},
   "outputs": [
    {
     "name": "stdout",
     "output_type": "stream",
     "text": [
      "Server started. Waiting for connections...\n"
     ]
    }
   ],
   "source": [
    "gamma = start_server('10.1.212.148', 64502)"
   ]
  },
  {
   "cell_type": "code",
   "execution_count": null,
   "id": "21ac2e8b-a917-464a-9128-a75e12e4d63f",
   "metadata": {},
   "outputs": [],
   "source": [
    "import re\n",
    "s = re.sub(r'\\[|\\]', '', gamma.decode())\n",
    "data = list(map(int, s.split()))\n",
    "print(data)"
   ]
  },
  {
   "cell_type": "code",
   "execution_count": null,
   "id": "235c8eb5-359f-4b23-9313-8eace045ad39",
   "metadata": {},
   "outputs": [],
   "source": [
    "krnl_gamma_filter = ol.gamma_filter_1"
   ]
  },
  {
   "cell_type": "code",
   "execution_count": null,
   "id": "a50d586e-0325-4824-9407-caaf57704456",
   "metadata": {},
   "outputs": [],
   "source": [
    "in_size = 2\n",
    "out_size = 256\n",
    "in_shape = (in_size, 1)\n",
    "out_shape = (out_size, 1)\n",
    "if hasattr(ol, 'HBM0'):\n",
    "    rt_buf_in = pynq.allocate(in_shape, dtype=np.uint8, target=ol.HBM0)\n",
    "    rt_buf_out = pynq.allocate(out_shape, dtype=np.uint8, target=ol.HBM0)\n",
    "else:\n",
    "    rt_buf_in = pynq.allocate(in_shape, dtype=np.uint8, target=ol.bank1)\n",
    "    rt_buf_out = pynq.allocate(out_shape, dtype=np.uint8, target=ol.bank1)"
   ]
  },
  {
   "cell_type": "code",
   "execution_count": null,
   "id": "adbaa8e5-7ebf-44fd-9242-eb2c3001c6b1",
   "metadata": {},
   "outputs": [],
   "source": [
    "data=[1, 80]\n",
    "rt_buf_in[:] = np.reshape(np.array(data), in_shape)\n",
    "rt_buf_in.sync_to_device()"
   ]
  },
  {
   "cell_type": "code",
   "execution_count": null,
   "id": "3d042efc-0028-4392-acb2-b2a4c5339a5b",
   "metadata": {},
   "outputs": [],
   "source": [
    "rt_hw = krnl_gamma_filter.start(rt_buf_in, rt_buf_out)"
   ]
  },
  {
   "cell_type": "code",
   "execution_count": null,
   "id": "f655ed53-051a-43e6-8392-a8f46b75ef79",
   "metadata": {},
   "outputs": [],
   "source": [
    "rt_hw.wait()\n",
    "rt_buf_out.sync_from_device()"
   ]
  },
  {
   "cell_type": "code",
   "execution_count": null,
   "id": "877a05dc-be2b-419b-b6cc-b97bc7b35fcb",
   "metadata": {},
   "outputs": [],
   "source": [
    "# print(rt_buf_out)\n",
    "output_shape = (1, out_size)\n",
    "filter = np.reshape(np.array(rt_buf_out), output_shape)\n",
    "print(filter)"
   ]
  },
  {
   "cell_type": "code",
   "execution_count": null,
   "id": "98b89132-b143-46b8-9abd-8d5db6f52ceb",
   "metadata": {},
   "outputs": [],
   "source": [
    "%xdel rt_buf_in\n",
    "%xdel rt_buf_out\n",
    "ol.free()"
   ]
  },
  {
   "cell_type": "markdown",
   "id": "49efe57a-dbd6-46f5-a55f-0f3bf18a59e2",
   "metadata": {},
   "source": [
    "### sending the data to the next FPGA"
   ]
  },
  {
   "cell_type": "code",
   "execution_count": null,
   "id": "0c9aac34-2cc2-446c-8ea0-b8c364d2e0ee",
   "metadata": {},
   "outputs": [],
   "source": [
    "from struct import pack\n",
    "\n",
    "def start_client(host, port, message):\n",
    "    # host = '10.1.212.148'\n",
    "    # port = 64501  # Must be the same as the server port\n",
    "\n",
    "    client_socket = socket.socket(socket.AF_INET, socket.SOCK_STREAM)\n",
    "    client_socket.connect((host, port))\n",
    "    message = message.encode()\n",
    "    length = pack('>Q', len(message)) \n",
    "    print(length)\n",
    "    client_socket.sendall(length) #send length\n",
    "    client_socket.sendall(message) #send data\n",
    "    #receive resp from server\n",
    "    data = client_socket.recv(3)\n",
    "    print(f'Received from server: {data}')\n",
    "    \n",
    "    client_socket.close()\n",
    "    return data"
   ]
  },
  {
   "cell_type": "code",
   "execution_count": null,
   "id": "98bf646b-12a9-427e-a35b-86aef81ffff3",
   "metadata": {},
   "outputs": [],
   "source": [
    "import time \n",
    "time.sleep(2)"
   ]
  },
  {
   "cell_type": "code",
   "execution_count": null,
   "id": "e3b2a06e-e409-45ee-8be5-0912cc16a95c",
   "metadata": {},
   "outputs": [],
   "source": [
    "data = np.array2string(filter)\n",
    "recv = start_client('10.1.212.147', 64508, data)"
   ]
  },
  {
   "cell_type": "code",
   "execution_count": null,
   "id": "37e20887-d7cf-4328-b415-964f7f0c0ad2",
   "metadata": {},
   "outputs": [],
   "source": [
    "print(len(data))"
   ]
  },
  {
   "cell_type": "code",
   "execution_count": null,
   "id": "a95fcf1a-2894-4ce1-9d7c-807f14a00d9d",
   "metadata": {},
   "outputs": [],
   "source": []
  }
 ],
 "metadata": {
  "kernelspec": {
   "display_name": "Python 3 (ipykernel)",
   "language": "python",
   "name": "python3"
  },
  "language_info": {
   "codemirror_mode": {
    "name": "ipython",
    "version": 3
   },
   "file_extension": ".py",
   "mimetype": "text/x-python",
   "name": "python",
   "nbconvert_exporter": "python",
   "pygments_lexer": "ipython3",
   "version": "3.9.16"
  }
 },
 "nbformat": 4,
 "nbformat_minor": 5
}
