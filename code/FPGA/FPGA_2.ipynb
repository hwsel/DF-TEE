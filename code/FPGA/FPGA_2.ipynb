{
 "cells": [
  {
   "cell_type": "markdown",
   "id": "a27b5686-fc5d-4efb-b56e-3a7d53843146",
   "metadata": {},
   "source": [
    "## FPGA #2"
   ]
  },
  {
   "cell_type": "code",
   "execution_count": 1,
   "id": "0b30e5f9-e722-4beb-b2a2-20e8abd393c6",
   "metadata": {},
   "outputs": [],
   "source": [
    "import pynq\n",
    "import numpy as np\n",
    "from _thread import *\n",
    "import threading \n",
    "import socket\n",
    "import time"
   ]
  },
  {
   "cell_type": "code",
   "execution_count": 2,
   "id": "f82f416c-6d47-4670-b8a3-604e737f7824",
   "metadata": {},
   "outputs": [],
   "source": [
    "import pynq, os, sys\n",
    "sys.path.append('../')\n",
    "import vnx_utils"
   ]
  },
  {
   "cell_type": "code",
   "execution_count": 3,
   "id": "7841977b-327e-4c63-98ee-2cfa33a0bdc0",
   "metadata": {},
   "outputs": [
    {
     "name": "stdout",
     "output_type": "stream",
     "text": [
      "0) xilinx_u200_gen3x16_xdma_base_2\n"
     ]
    }
   ],
   "source": [
    "for i in range(len(pynq.Device.devices)):\n",
    "    print(\"{}) {}\".format(i, pynq.Device.devices[i].name))"
   ]
  },
  {
   "cell_type": "markdown",
   "id": "4c4a8e01-08be-43fe-9593-852649a97141",
   "metadata": {},
   "source": [
    "### Load bitstreams"
   ]
  },
  {
   "cell_type": "code",
   "execution_count": 4,
   "id": "72fe4fbb-5249-4ed9-9780-277f73d34532",
   "metadata": {},
   "outputs": [
    {
     "name": "stdout",
     "output_type": "stream",
     "text": [
      "pynq in ray-pynq environment\n"
     ]
    },
    {
     "data": {
      "application/javascript": [
       "\n",
       "try {\n",
       "require(['notebook/js/codecell'], function(codecell) {\n",
       "  codecell.CodeCell.options_default.highlight_modes[\n",
       "      'magic_text/x-csrc'] = {'reg':[/^%%microblaze/]};\n",
       "  Jupyter.notebook.events.one('kernel_ready.Kernel', function(){\n",
       "      Jupyter.notebook.get_cells().map(function(cell){\n",
       "          if (cell.cell_type == 'code'){ cell.auto_highlight(); } }) ;\n",
       "  });\n",
       "});\n",
       "} catch (e) {};\n"
      ]
     },
     "metadata": {},
     "output_type": "display_data"
    },
    {
     "data": {
      "application/javascript": [
       "\n",
       "try {\n",
       "require(['notebook/js/codecell'], function(codecell) {\n",
       "  codecell.CodeCell.options_default.highlight_modes[\n",
       "      'magic_text/x-csrc'] = {'reg':[/^%%pybind11/]};\n",
       "  Jupyter.notebook.events.one('kernel_ready.Kernel', function(){\n",
       "      Jupyter.notebook.get_cells().map(function(cell){\n",
       "          if (cell.cell_type == 'code'){ cell.auto_highlight(); } }) ;\n",
       "  });\n",
       "});\n",
       "} catch (e) {};\n"
      ]
     },
     "metadata": {},
     "output_type": "display_data"
    },
    {
     "name": "stdout",
     "output_type": "stream",
     "text": [
      "ip not in _ip_drivers\n"
     ]
    }
   ],
   "source": [
    "currentDevice = pynq.Device.devices[0]\n",
    "xclbin = 'gamma_apply/build_dir.hw.xilinx_u200_gen3x16_xdma_2_202110_1/gamma_apply.xclbin'\n",
    "ol = pynq.Overlay(xclbin,device=currentDevice)"
   ]
  },
  {
   "cell_type": "code",
   "execution_count": 5,
   "id": "b14ad98b-fe0f-4260-9607-193bc7bcaae9",
   "metadata": {},
   "outputs": [
    {
     "data": {
      "application/json": {
       "gamma_apply": {
        "addr_range": 52,
        "cu_index": 0,
        "cu_name": "gamma_apply:gamma_apply",
        "device": "<pynq.pl_server.xrt_device.XrtDevice object at 0x7f66f8ffae50>",
        "driver": "<class 'pynq.overlay.DefaultIP'>",
        "fullpath": "gamma_apply",
        "gpio": {},
        "hw_control_protocol": "ap_ctrl_chain",
        "index": 0,
        "interrupts": {},
        "mem_id": null,
        "phys_addr": 16842752,
        "registers": {
         "CTRL": {
          "access": "read-write",
          "address_offset": 0,
          "description": "OpenCL Control Register",
          "fields": {
           "AP_CONTINUE": {
            "access": "read-write",
            "bit_offset": 4,
            "bit_width": 1,
            "description": "Invoke next iteration of kernel"
           },
           "AP_DONE": {
            "access": "read-only",
            "bit_offset": 1,
            "bit_width": 1,
            "description": "Accelerator has finished - cleared on read"
           },
           "AP_IDLE": {
            "access": "read-only",
            "bit_offset": 2,
            "bit_width": 1,
            "description": "Accelerator is idle"
           },
           "AP_READY": {
            "access": "read-only",
            "bit_offset": 3,
            "bit_width": 1,
            "description": "Accelerator is ready to start next computation"
           },
           "AP_START": {
            "access": "read-write",
            "bit_offset": 0,
            "bit_width": 1,
            "description": "Start the accelerator"
           },
           "AUTO_RESTART": {
            "access": "read-write",
            "bit_offset": 7,
            "bit_width": 1,
            "description": "Restart the accelerator automatically when finished"
           }
          },
          "id": null,
          "size": 4,
          "type": "unsigned int"
         },
         "image_data": {
          "access": "read-write;",
          "address_offset": 16,
          "description": "OpenCL Argument Register",
          "host_size": 8,
          "id": 0,
          "memory": "bank1",
          "size": 64,
          "type": "void*"
         },
         "output_image": {
          "access": "read-write;",
          "address_offset": 28,
          "description": "OpenCL Argument Register",
          "host_size": 8,
          "id": 1,
          "memory": "bank1",
          "size": 64,
          "type": "void*"
         },
         "size": {
          "access": "read-write;",
          "address_offset": 40,
          "description": "OpenCL Argument Register",
          "host_size": 8,
          "id": 2,
          "size": 64,
          "type": "unsigned long long"
         }
        },
        "state": null,
        "streams": {},
        "type": "xilinx.com:hls:gamma_apply:1.0",
        "xclbin_uuid": "2628e058b10d74f8d73ea39c09d790d0"
       }
      },
      "text/plain": [
       "{'gamma_apply': {'phys_addr': 16842752,\n",
       "  'addr_range': 52,\n",
       "  'type': 'xilinx.com:hls:gamma_apply:1.0',\n",
       "  'hw_control_protocol': 'ap_ctrl_chain',\n",
       "  'fullpath': 'gamma_apply',\n",
       "  'registers': {'CTRL': {'address_offset': 0,\n",
       "    'access': 'read-write',\n",
       "    'size': 4,\n",
       "    'description': 'OpenCL Control Register',\n",
       "    'type': 'unsigned int',\n",
       "    'id': None,\n",
       "    'fields': {'AP_START': {'access': 'read-write',\n",
       "      'bit_offset': 0,\n",
       "      'bit_width': 1,\n",
       "      'description': 'Start the accelerator'},\n",
       "     'AP_DONE': {'access': 'read-only',\n",
       "      'bit_offset': 1,\n",
       "      'bit_width': 1,\n",
       "      'description': 'Accelerator has finished - cleared on read'},\n",
       "     'AP_IDLE': {'access': 'read-only',\n",
       "      'bit_offset': 2,\n",
       "      'bit_width': 1,\n",
       "      'description': 'Accelerator is idle'},\n",
       "     'AP_READY': {'access': 'read-only',\n",
       "      'bit_offset': 3,\n",
       "      'bit_width': 1,\n",
       "      'description': 'Accelerator is ready to start next computation'},\n",
       "     'AUTO_RESTART': {'access': 'read-write',\n",
       "      'bit_offset': 7,\n",
       "      'bit_width': 1,\n",
       "      'description': 'Restart the accelerator automatically when finished'},\n",
       "     'AP_CONTINUE': {'access': 'read-write',\n",
       "      'bit_offset': 4,\n",
       "      'bit_width': 1,\n",
       "      'description': 'Invoke next iteration of kernel'}}},\n",
       "   'image_data': {'address_offset': 16,\n",
       "    'access': 'read-write;',\n",
       "    'size': 64,\n",
       "    'host_size': 8,\n",
       "    'description': 'OpenCL Argument Register',\n",
       "    'type': 'void*',\n",
       "    'id': 0,\n",
       "    'memory': 'bank1'},\n",
       "   'output_image': {'address_offset': 28,\n",
       "    'access': 'read-write;',\n",
       "    'size': 64,\n",
       "    'host_size': 8,\n",
       "    'description': 'OpenCL Argument Register',\n",
       "    'type': 'void*',\n",
       "    'id': 1,\n",
       "    'memory': 'bank1'},\n",
       "   'size': {'address_offset': 40,\n",
       "    'access': 'read-write;',\n",
       "    'size': 64,\n",
       "    'host_size': 8,\n",
       "    'description': 'OpenCL Argument Register',\n",
       "    'type': 'unsigned long long',\n",
       "    'id': 2}},\n",
       "  'streams': {},\n",
       "  'mem_id': None,\n",
       "  'state': None,\n",
       "  'interrupts': {},\n",
       "  'gpio': {},\n",
       "  'xclbin_uuid': '2628e058b10d74f8d73ea39c09d790d0',\n",
       "  'cu_name': 'gamma_apply:gamma_apply',\n",
       "  'cu_index': 0,\n",
       "  'index': 0,\n",
       "  'device': <pynq.pl_server.xrt_device.XrtDevice at 0x7f66f8ffae50>,\n",
       "  'driver': pynq.overlay.DefaultIP}}"
      ]
     },
     "execution_count": 5,
     "metadata": {
      "application/json": {
       "expanded": false,
       "root": "ip_dict"
      }
     },
     "output_type": "execute_result"
    }
   ],
   "source": [
    "ol.ip_dict"
   ]
  },
  {
   "cell_type": "code",
   "execution_count": 6,
   "id": "2d3f014a-3d52-466f-abf0-82c12965abdd",
   "metadata": {},
   "outputs": [],
   "source": [
    "krnl_gamma_apply = ol.gamma_apply"
   ]
  },
  {
   "cell_type": "markdown",
   "id": "d33c2621-a4d0-45e1-b816-65cbb0a579d6",
   "metadata": {},
   "source": [
    "### Receiving image"
   ]
  },
  {
   "cell_type": "code",
   "execution_count": 7,
   "id": "09e9aa1d-1e96-4f42-b0a4-9aa07492aa1c",
   "metadata": {},
   "outputs": [],
   "source": [
    "import socket\n",
    "from struct import unpack\n",
    "\n",
    "def start_server(host, port):\n",
    "    # host = '10.1.212.147'\n",
    "    # port = 64505  # Make sure this port is not in use\n",
    "\n",
    "    server_socket = socket.socket(socket.AF_INET, socket.SOCK_STREAM)\n",
    "    server_socket.bind((host, port))\n",
    "    server_socket.listen(1)\n",
    "    print('Server started. Waiting for connections...')\n",
    "    server_running = True\n",
    "    \n",
    "    while server_running:\n",
    "        client_socket, addr = server_socket.accept()\n",
    "        print(f'Connection from: {str(addr)}')\n",
    "        while True:\n",
    "            bs = client_socket.recv(8)\n",
    "            (length,) = unpack('>Q', bs)\n",
    "            print(length)\n",
    "            recv_data = b''\n",
    "            while len(recv_data) < length:\n",
    "                to_read = length - len(recv_data)\n",
    "                recv_data += client_socket.recv(\n",
    "                    4096 if to_read > 4096 else to_read)\n",
    "            # recv_data = receive_all(client_socket, image_data_size)\n",
    "            if not recv_data:\n",
    "                break\n",
    "            print(f'From connected user: {recv_data[:1024]} ...')\n",
    "            data = '202'\n",
    "            client_socket.send(data.encode())\n",
    "            \n",
    "            server_running = False\n",
    "            break\n",
    "\n",
    "        client_socket.close()\n",
    "    server_socket.close()\n",
    "    print(\"close connection\")\n",
    "    return recv_data"
   ]
  },
  {
   "cell_type": "code",
   "execution_count": null,
   "id": "bec9afbd-daa6-42b9-b5d5-1761ea6f92c1",
   "metadata": {},
   "outputs": [
    {
     "name": "stdout",
     "output_type": "stream",
     "text": [
      "Server started. Waiting for connections...\n"
     ]
    }
   ],
   "source": [
    "image = start_server('10.1.212.147', 64506)"
   ]
  },
  {
   "cell_type": "code",
   "execution_count": null,
   "id": "6b6733f9-ed1d-41fa-baf7-9f698d49f1bd",
   "metadata": {},
   "outputs": [],
   "source": [
    "s = image.decode()\n",
    "lines = s.strip('[]').split('\\n')\n",
    "data = [int(num) for line in lines for num in line.split()]\n",
    "# print(data)"
   ]
  },
  {
   "cell_type": "code",
   "execution_count": null,
   "id": "4038a80a-1311-43b5-b867-428328e5ce18",
   "metadata": {},
   "outputs": [],
   "source": [
    "print(len(data))"
   ]
  },
  {
   "cell_type": "code",
   "execution_count": null,
   "id": "7e14b81e-48d2-4a09-a4bf-c8b94441d6ed",
   "metadata": {},
   "outputs": [],
   "source": [
    "import time\n",
    "time.sleep(1)"
   ]
  },
  {
   "cell_type": "markdown",
   "id": "0da3ad4b-644c-4bbc-bc03-9ebcfe7cc534",
   "metadata": {
    "tags": []
   },
   "source": [
    "### Receiving the result from FPGA 1"
   ]
  },
  {
   "cell_type": "code",
   "execution_count": null,
   "id": "c5a9bce2-07d5-4539-b069-940c22c1e455",
   "metadata": {},
   "outputs": [],
   "source": [
    "filter = start_server('10.1.212.147', 64508)"
   ]
  },
  {
   "cell_type": "code",
   "execution_count": null,
   "id": "05dd6dde-a2dd-4973-bfb9-40aef7831edc",
   "metadata": {},
   "outputs": [],
   "source": [
    "import re\n",
    "s = re.sub(r'\\[|\\]', '', filter.decode())\n",
    "filter_arr = list(map(int, s.split()))"
   ]
  },
  {
   "cell_type": "markdown",
   "id": "ffd9371a-1d81-4efb-aee7-fca33f2bf4b6",
   "metadata": {},
   "source": [
    "### Prepare the buffer"
   ]
  },
  {
   "cell_type": "code",
   "execution_count": null,
   "id": "c546471b-302b-424e-8f4f-a957f89ad58e",
   "metadata": {},
   "outputs": [],
   "source": [
    "# with open('./image/image_256.txt', 'r') as f:\n",
    "#     lines = f.readlines()\n",
    "\n",
    "# # Convert lines into a 2D list\n",
    "# data = [[int(num) for num in line.split()] for line in lines]"
   ]
  },
  {
   "cell_type": "code",
   "execution_count": null,
   "id": "b1590427-9f5d-4283-b48d-c9fd825ba64e",
   "metadata": {},
   "outputs": [],
   "source": [
    "in_size = 256*256+256\n",
    "out_size = 256*256\n",
    "in_shape = (in_size, 1)\n",
    "out_shape = (out_size, 1)\n",
    "if hasattr(ol, 'HBM0'):\n",
    "    rt_buf_in = pynq.allocate(in_shape, dtype=np.uint8, target=ol.HBM0)\n",
    "    rt_buf_out = pynq.allocate(out_shape, dtype=np.uint8, target=ol.HBM0)\n",
    "else:\n",
    "    rt_buf_in = pynq.allocate(in_shape, dtype=np.uint8, target=ol.bank1)\n",
    "    rt_buf_out = pynq.allocate(out_shape, dtype=np.uint8, target=ol.bank1)"
   ]
  },
  {
   "cell_type": "code",
   "execution_count": null,
   "id": "a2037760-2678-4527-a40c-c3d08f8e4f5d",
   "metadata": {},
   "outputs": [],
   "source": [
    "image_size = 256*256\n",
    "filter_size = 256\n",
    "image_shape = (image_size)\n",
    "filter_shape = (filter_size)\n",
    "image = np.reshape(np.array(data), image_shape)\n",
    "filter = np.reshape(np.array(filter_arr), filter_shape)\n",
    "input_data = [*filter, *image]\n",
    "# print(input_data)\n",
    "rt_buf_in[:] = np.reshape(np.array(input_data), in_shape)\n",
    "rt_buf_in.sync_to_device()"
   ]
  },
  {
   "cell_type": "code",
   "execution_count": null,
   "id": "28ac18ef-5785-4321-9c40-87674df44f07",
   "metadata": {},
   "outputs": [],
   "source": [
    "input_size = 256*256"
   ]
  },
  {
   "cell_type": "code",
   "execution_count": null,
   "id": "e4a92626-4203-44fb-b7e4-3ebafb084803",
   "metadata": {},
   "outputs": [],
   "source": [
    "rt_hw = krnl_gamma_apply.start(rt_buf_in, rt_buf_out, input_size)"
   ]
  },
  {
   "cell_type": "code",
   "execution_count": null,
   "id": "f436ba45-715f-4ad8-80e8-7e1fc392c65f",
   "metadata": {},
   "outputs": [],
   "source": [
    "rt_hw.wait()\n",
    "rt_buf_out.sync_from_device()"
   ]
  },
  {
   "cell_type": "code",
   "execution_count": null,
   "id": "800e6145-9ab3-4358-a6e2-709855bfeda3",
   "metadata": {},
   "outputs": [],
   "source": [
    "# from PIL import Image\n",
    "# with open('./image/gamma_image_256.txt', 'r') as f:\n",
    "#     lines = f.readlines()\n",
    "# output = [[int(num) for num in line.split()] for line in lines]\n",
    "output = np.reshape(np.array(rt_buf_out), (256 * 256))\n",
    "# im = Image.fromarray(output)\n",
    "# im.show()"
   ]
  },
  {
   "cell_type": "code",
   "execution_count": null,
   "id": "c4ae30c6-00f0-4dc3-9a4e-21185dcbfea0",
   "metadata": {},
   "outputs": [],
   "source": [
    "ol.free()\n",
    "%xdel rt_buf_in\n",
    "%xdel rt_buf_out"
   ]
  },
  {
   "cell_type": "code",
   "execution_count": null,
   "id": "e8996df3-687e-4261-9993-ec6828309b9f",
   "metadata": {},
   "outputs": [],
   "source": [
    "print(output)\n",
    "from PIL import Image\n",
    "output = np.reshape(np.array(output), (256, 256))\n",
    "im = Image.fromarray(output)\n",
    "im.show()\n",
    "# im.save('./image/gamma_image_256.jpg')"
   ]
  },
  {
   "cell_type": "code",
   "execution_count": null,
   "id": "57067461-9785-4462-993e-a72434c33b74",
   "metadata": {},
   "outputs": [],
   "source": [
    "### sending data back to the FPGA manager"
   ]
  },
  {
   "cell_type": "code",
   "execution_count": null,
   "id": "4d3a3c9f-62e4-4e4c-8f86-1ed2c73b9d4e",
   "metadata": {},
   "outputs": [],
   "source": [
    "from struct import pack\n",
    "\n",
    "def start_client(host, port, message):\n",
    "    # host = '10.1.212.148'\n",
    "    # port = 64501  # Must be the same as the server port\n",
    "\n",
    "    client_socket = socket.socket(socket.AF_INET, socket.SOCK_STREAM)\n",
    "    client_socket.connect((host, port))\n",
    "    message = message.encode()\n",
    "    length = pack('>Q', len(message)) \n",
    "    print(length)\n",
    "    client_socket.sendall(length) #send length\n",
    "    client_socket.sendall(message) #send data\n",
    "    #receive resp from server\n",
    "    data = client_socket.recv(3)\n",
    "    print(f'Received from server: {data}')\n",
    "    \n",
    "    client_socket.close()\n",
    "    return data"
   ]
  },
  {
   "cell_type": "code",
   "execution_count": null,
   "id": "1daacd3d-af96-459b-b814-3b34b1820d58",
   "metadata": {},
   "outputs": [],
   "source": [
    "output = np.reshape(np.array(output), (256*256))\n",
    "np.set_printoptions(threshold=np.inf)\n",
    "data = np.array2string(output)\n",
    "recv = start_client('10.1.212.148', 64510, data)"
   ]
  },
  {
   "cell_type": "code",
   "execution_count": null,
   "id": "f05c59a1-e751-4994-9871-9d73db23dcde",
   "metadata": {},
   "outputs": [],
   "source": []
  }
 ],
 "metadata": {
  "kernelspec": {
   "display_name": "Python 3 (ipykernel)",
   "language": "python",
   "name": "python3"
  },
  "language_info": {
   "codemirror_mode": {
    "name": "ipython",
    "version": 3
   },
   "file_extension": ".py",
   "mimetype": "text/x-python",
   "name": "python",
   "nbconvert_exporter": "python",
   "pygments_lexer": "ipython3",
   "version": "3.9.16"
  }
 },
 "nbformat": 4,
 "nbformat_minor": 5
}
