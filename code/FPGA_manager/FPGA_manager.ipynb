{
 "cells": [
  {
   "cell_type": "markdown",
   "id": "58f119e9-c8fe-4cd8-b066-98e2c6293030",
   "metadata": {},
   "source": [
    "# Hardware manager"
   ]
  },
  {
   "cell_type": "code",
   "execution_count": 1,
   "id": "e97e8dd2-4531-4c3b-872f-f0903274866b",
   "metadata": {},
   "outputs": [],
   "source": [
    "import numpy as np\n",
    "from PIL import Image\n",
    "import socket"
   ]
  },
  {
   "cell_type": "code",
   "execution_count": 2,
   "id": "6ff2b12e-6dc1-44e8-8f49-57b851b5fbc9",
   "metadata": {},
   "outputs": [],
   "source": [
    "max_data_size = 400000"
   ]
  },
  {
   "cell_type": "code",
   "execution_count": 3,
   "id": "45ec2770-db4a-4948-bd9a-7e3705380456",
   "metadata": {},
   "outputs": [],
   "source": [
    "\n",
    "\n",
    "img = Image.open('resized_image_256.jpg')\n",
    "resized_image = img.resize((256, 256), Image.ANTIALIAS)\n",
    "\n",
    "from PIL import ImageOps\n",
    "resized_image = ImageOps.grayscale(resized_image)\n",
    "resized_image.show()\n",
    "data = np.asarray(resized_image)\n",
    "# print(data)\n",
    "# print(data.shape)\n",
    "# with open('./image.txt', 'r') as f:\n",
    "#     lines = f.readlines()\n",
    "\n",
    "# # Convert lines into a 2D list\n",
    "# data = [[int(num) for num in line.split()] for line in lines]"
   ]
  },
  {
   "cell_type": "code",
   "execution_count": 4,
   "id": "d1305692-c12a-41a8-b587-d9e084631a46",
   "metadata": {},
   "outputs": [],
   "source": [
    "data = np.reshape(np.array(data), (1, 256 * 256))\n",
    "np.set_printoptions(threshold=np.inf)\n",
    "data = np.array2string(data)"
   ]
  },
  {
   "cell_type": "code",
   "execution_count": 5,
   "id": "8f373c1d-57db-4774-bf5e-166d46ad71b2",
   "metadata": {
    "tags": []
   },
   "outputs": [],
   "source": [
    "import socket\n",
    "from struct import unpack\n",
    "\n",
    "def start_server(host, port):\n",
    "    # host = '10.1.212.147'\n",
    "    # port = 64505  # Make sure this port is not in use\n",
    "\n",
    "    server_socket = socket.socket(socket.AF_INET, socket.SOCK_STREAM)\n",
    "    server_socket.bind((host, port))\n",
    "    server_socket.listen(1)\n",
    "    print('Server started. Waiting for connections...')\n",
    "    server_running = True\n",
    "    \n",
    "    while server_running:\n",
    "        client_socket, addr = server_socket.accept()\n",
    "        print(f'Connection from: {str(addr)}')\n",
    "        while True:\n",
    "            bs = client_socket.recv(8)\n",
    "            (length,) = unpack('>Q', bs)\n",
    "            print(length)\n",
    "            recv_data = b''\n",
    "            while len(recv_data) < length:\n",
    "                to_read = length - len(recv_data)\n",
    "                recv_data += client_socket.recv(\n",
    "                    4096 if to_read > 4096 else to_read)\n",
    "            # recv_data = receive_all(client_socket, image_data_size)\n",
    "            if not recv_data:\n",
    "                break\n",
    "            print(f'From connected user: {recv_data[:1024]} ...')\n",
    "            data = '202'\n",
    "            client_socket.send(data.encode())\n",
    "            \n",
    "            server_running = False\n",
    "            break\n",
    "\n",
    "        client_socket.close()\n",
    "    server_socket.close()\n",
    "    print(\"close connection\")\n",
    "    return recv_data"
   ]
  },
  {
   "cell_type": "code",
   "execution_count": 6,
   "id": "6d172ca4-df47-4d29-ad36-2a74b12d83b4",
   "metadata": {},
   "outputs": [],
   "source": [
    "from struct import pack\n",
    "\n",
    "def start_client(host, port, message):\n",
    "    # host = '10.1.212.148'\n",
    "    # port = 64501  # Must be the same as the server port\n",
    "\n",
    "    client_socket = socket.socket(socket.AF_INET, socket.SOCK_STREAM)\n",
    "    client_socket.connect((host, port))\n",
    "    message = message.encode()\n",
    "    length = pack('>Q', len(message)) \n",
    "    print(length)\n",
    "    client_socket.sendall(length) #send length\n",
    "    client_socket.sendall(message) #send data\n",
    "    #receive resp from server\n",
    "    data = client_socket.recv(3)\n",
    "    print(f'Received from server: {data}')\n",
    "    \n",
    "    client_socket.close()\n",
    "    return data"
   ]
  },
  {
   "cell_type": "markdown",
   "id": "ae6cf95f-8682-40f1-b75b-a570de37780f",
   "metadata": {},
   "source": [
    "### Send data to FPGA 1"
   ]
  },
  {
   "cell_type": "code",
   "execution_count": 7,
   "id": "566030e3-266b-4fd1-8ee8-f5bcf75697eb",
   "metadata": {},
   "outputs": [
    {
     "name": "stdout",
     "output_type": "stream",
     "text": [
      "b'\\x00\\x00\\x00\\x00\\x00\\x00\\x00\\x07'\n",
      "Received from server: b'202'\n"
     ]
    }
   ],
   "source": [
    "\n",
    "\n",
    "gamma = [0, 50]\n",
    "gamma = np.reshape(np.array(gamma), (2))\n",
    "gamma = np.array2string(gamma)\n",
    "recv = start_client('10.1.212.148', 64502, gamma)"
   ]
  },
  {
   "cell_type": "markdown",
   "id": "31754cd2-1390-4b13-a00a-b1ed2bb3ff3d",
   "metadata": {},
   "source": [
    "### Send data to FPGA 2"
   ]
  },
  {
   "cell_type": "code",
   "execution_count": 8,
   "id": "b47bdc41-c2b7-4387-8a1d-510040afa2e2",
   "metadata": {},
   "outputs": [
    {
     "name": "stdout",
     "output_type": "stream",
     "text": [
      "b'\\x00\\x00\\x00\\x00\\x00\\x04\\x1cs'\n",
      "Received from server: b'202'\n"
     ]
    }
   ],
   "source": [
    "recv = start_client('10.1.212.147', 64506, data)"
   ]
  },
  {
   "cell_type": "code",
   "execution_count": 9,
   "id": "25218e74-35ee-4df1-b9e3-5c2fff60deae",
   "metadata": {},
   "outputs": [
    {
     "name": "stdout",
     "output_type": "stream",
     "text": [
      "269427\n"
     ]
    }
   ],
   "source": [
    "print(len(data))"
   ]
  },
  {
   "cell_type": "markdown",
   "id": "0ec019fe-ba5c-48d1-9b05-947bfde3095a",
   "metadata": {
    "tags": []
   },
   "source": [
    "### Waiting for the results"
   ]
  },
  {
   "cell_type": "code",
   "execution_count": 10,
   "id": "52d3add5-26fb-4f80-af19-3389aec281c4",
   "metadata": {},
   "outputs": [
    {
     "name": "stdout",
     "output_type": "stream",
     "text": [
      "Server started. Waiting for connections...\n",
      "Connection from: ('10.1.212.147', 46608)\n",
      "265785\n",
      "From connected user: b'[110 110 110 110 110 110 110 110 111 111 111 112 112 113 113 113 114 113\\n 113 113 113 114 115 116 117 117 117 117 117 117 117 117 118 118 118 117\\n 116 115 113 112 111 110 110 110 110 111 112 113 113 114 115 116 117 117\\n 117 117 118 118 118 118 118 118 118 118 119 119 119 118 117 116 115 114\\n 112 111 111 111 111 112 113 114 114 114 114 114 113 112 111 110 111 111\\n 111 111 111 111 111 111 111 111 111 112 112 113 113 113 112 112 114 115\\n 117 118 119 120 123 123 125 126 125 124 123 122 122 121 119 117 115 114\\n 114 114 114 114 113 113 113 112 112 112 112 111 111 111 111 112 113 114\\n 115 115 115 116 116 117 117 117 117 117 117 117 117 117 117 117 114 114\\n 114 114 114 114 114 114 115 115 115 116 116 117 117 117 117 117 117 117\\n 117 117 117 117 116 116 116 115 115 114 114 114 115 115 115 115 115 115\\n 115 115 114 114 114 114 114 114 114 114 114 114 114 115 117 119 121 122\\n 127 129 132 132 131 131 132 133 131 129 127 124 122 120 119 119 118 118\\n 118 117 117 116 116 116 115 116 116 116 116 115 114 113 114 114 114 114\\n 1' ...\n",
      "close connection\n"
     ]
    }
   ],
   "source": [
    "recv = start_server('10.1.212.148', 64510)"
   ]
  },
  {
   "cell_type": "code",
   "execution_count": 11,
   "id": "4f1c420c-e9a2-49a4-bbf4-64d6697a4fdd",
   "metadata": {},
   "outputs": [],
   "source": [
    "s = recv.decode()\n",
    "lines = s.strip('[]').split('\\n')\n",
    "data = [int(num) for line in lines for num in line.split()]"
   ]
  },
  {
   "cell_type": "code",
   "execution_count": 12,
   "id": "38b2427a-19bf-4a95-b97f-44b696aaf666",
   "metadata": {},
   "outputs": [
    {
     "name": "stdout",
     "output_type": "stream",
     "text": [
      "65536\n"
     ]
    }
   ],
   "source": [
    "print(len(data))"
   ]
  },
  {
   "cell_type": "code",
   "execution_count": null,
   "id": "a417ba23-4630-4c00-8f9a-d6cc6cd809f2",
   "metadata": {},
   "outputs": [],
   "source": []
  }
 ],
 "metadata": {
  "kernelspec": {
   "display_name": "Python 3 (ipykernel)",
   "language": "python",
   "name": "python3"
  },
  "language_info": {
   "codemirror_mode": {
    "name": "ipython",
    "version": 3
   },
   "file_extension": ".py",
   "mimetype": "text/x-python",
   "name": "python",
   "nbconvert_exporter": "python",
   "pygments_lexer": "ipython3",
   "version": "3.9.16"
  }
 },
 "nbformat": 4,
 "nbformat_minor": 5
}
